{
 "cells": [
  {
   "cell_type": "markdown",
   "metadata": {},
   "source": [
    "<a href=\"https://jupyter.org\"><img src=\"https://jupyter.org/assets/nav_logo.svg\" width=\"600px\"/></a>"
   ]
  },
  {
   "cell_type": "markdown",
   "metadata": {},
   "source": [
    "# **Jupyter Notebooks**\n",
    "\n",
    "What is a  Jupyter notebook? In a nutshell, a notebooks is a document made of cells. Each of these cells can contain either text (e.g. _Markdown_ or $\\LaTeX$) or Python code. \n",
    "\n",
    "> \"This combination of prose and code makes them ideal for experimentation: we can see the rationale for each experiment, the code and the results in one comprehensive document\" (from [fast.ai's intro notebook](https://colab.research.google.com/github/fastai/fastbook/blob/master/app_jupyter.ipynb))"
   ]
  },
  {
   "cell_type": "markdown",
   "metadata": {},
   "source": [
    "# Cells"
   ]
  },
  {
   "cell_type": "markdown",
   "metadata": {},
   "source": [
    "## Code Cells\n",
    "\n",
    "In code cells, you can write Python code and execute it by _running_ the cell."
   ]
  },
  {
   "cell_type": "code",
   "execution_count": null,
   "metadata": {},
   "outputs": [],
   "source": [
    "# This is a code cell. Click me or press <Enter> to edit me.\n",
    "\n",
    "# Here, we can write Python code and run it by pressing <Shift + Enter>\n",
    "1 + 2"
   ]
  },
  {
   "cell_type": "markdown",
   "metadata": {},
   "source": [
    "The output of the last line—if there is any—will be shown right underneith the cell. This can be plain text or _rich output_ as e.g. images, audio or even interactive applications."
   ]
  },
  {
   "cell_type": "code",
   "execution_count": null,
   "metadata": {},
   "outputs": [],
   "source": [
    "1 + 2\n",
    "\n",
    "a = 1 + 2 # assigning a value to a variable does not produce any output"
   ]
  },
  {
   "cell_type": "code",
   "execution_count": null,
   "metadata": {},
   "outputs": [],
   "source": [
    "a"
   ]
  },
  {
   "cell_type": "markdown",
   "metadata": {},
   "source": [
    "You can use `;` to suppress the output of the last statement."
   ]
  },
  {
   "cell_type": "code",
   "execution_count": null,
   "metadata": {},
   "outputs": [],
   "source": [
    "b = a + 1\n",
    "b;"
   ]
  },
  {
   "cell_type": "markdown",
   "metadata": {},
   "source": [
    "## Text Cells"
   ]
  },
  {
   "cell_type": "markdown",
   "metadata": {},
   "source": [
    "### Markdown \n",
    "\n",
    "This is a _markdown cell_. Double-click me or press `Enter` to edit me.\n",
    "\n",
    "Once you run the cell, the content will be rendered."
   ]
  },
  {
   "cell_type": "markdown",
   "metadata": {},
   "source": [
    "#### Lists"
   ]
  },
  {
   "cell_type": "markdown",
   "metadata": {},
   "source": [
    "Here, you can write everything that Markdown has to offer, e.g. a\n",
    "* bullet\n",
    "* list\n",
    "\n",
    "or a\n",
    "\n",
    "* [x] task\n",
    "* [ ] list\n"
   ]
  },
  {
   "cell_type": "markdown",
   "metadata": {},
   "source": [
    "#### Tables"
   ]
  },
  {
   "cell_type": "markdown",
   "metadata": {},
   "source": [
    "|                            | Cubase Pro 11 | Cubase Artist 11 |\n",
    "|--------------------------- |---------------| -----------------|\n",
    "| Audio Engine               | 64 bit        | 64 bit           |\n",
    "| VST audio effect plug-ins  | 79            | 60               |\n",
    "| Group channels             | 256           | 32               |\n"
   ]
  },
  {
   "cell_type": "markdown",
   "metadata": {},
   "source": [
    "#### Links"
   ]
  },
  {
   "cell_type": "markdown",
   "metadata": {},
   "source": [
    "You can of course have [external links](https://www.steinberg.net/en/home.html) 😊,\n",
    "\n",
    "or an internal link within this notebook ([Take me to the top!!!](#Jupyter-Notebooks)),\n",
    "\n",
    "or even links to some section [in another notebook](1_numpy.ipynb#The-Basics)!"
   ]
  },
  {
   "cell_type": "markdown",
   "metadata": {},
   "source": [
    "#### Images\n",
    "\n",
    "We can display an image from the web (or a local one) using Markdown\n",
    "\n",
    "![](https://ocl-steinberg-live.steinberg.net/_storage/asset/104789/storage/JPG_extra-large_5500px/104789-extra-large.jpg)"
   ]
  },
  {
   "cell_type": "markdown",
   "metadata": {},
   "source": [
    "... or using the HTML `img` tag directly to have some more flexibility (e.g. explicitly settings the size)\n",
    "\n",
    "<img src=\"https://ocl-steinberg-live.steinberg.net/_storage/asset/104791/storage/JPG_extra-large_5500px/104791-extra-large.jpg\" width=500/>"
   ]
  },
  {
   "cell_type": "markdown",
   "metadata": {},
   "source": [
    "### Math"
   ]
  },
  {
   "cell_type": "markdown",
   "metadata": {},
   "source": [
    "Or you can write some fancy math equations using $\\LaTeX$.\n",
    "\n",
    "Either inline like so $ f(x) = ax^2 + bx + c $, or e.g. centered:\n",
    "\n",
    "$$\n",
    "X_k = \\sum_{n=0}^{N - 1} x_{n} \\cdot e^{- \\frac{\\imath 2 \\pi}{N} \\; k n} \\quad \\text{for}\\; k = 0,\\dots,N-1\n",
    "$$"
   ]
  },
  {
   "cell_type": "markdown",
   "metadata": {},
   "source": [
    "# Modes\n",
    "\n",
    "As you noticed by now, JupyterLab notebooks work with two different modes (somewhat like ```vim```):\n",
    "* [Command Mode](#Command-Mode)\n",
    "* [Edit Mode](#Edit-Mode)\n",
    "\n",
    "The active mode is displayed in the status bar on the bottom right."
   ]
  },
  {
   "cell_type": "markdown",
   "metadata": {},
   "source": [
    "## Command Mode\n",
    "\n",
    "The command mode is the default mode and operates on cells. It can be used to e.g.\n",
    "* run cells\n",
    "* insert/move/delete cells"
   ]
  },
  {
   "cell_type": "markdown",
   "metadata": {},
   "source": [
    "## Edit Mode \n",
    "\n",
    "The edit mode operates on the content of the cell, i.e. you can use it to put stuff into a cell (code, markdown, latex, ...).\n",
    "\n",
    "You can activate the edit mode by clicking into a code cell (double-click for cells that are already rendered) or hitting the ```Enter``` key on the keyboard. Pressing ```Esc``` will switch back to command mode."
   ]
  },
  {
   "cell_type": "markdown",
   "metadata": {},
   "source": [
    "# Command Palette\n",
    "\n",
    "If you're looking for a certain command, activate the command palette with ```Ctrl + Shift + C``` and start typing.\n",
    "\n",
    "If you have used e.g. Visual Studio Code before, this should feel familiar to you."
   ]
  },
  {
   "cell_type": "markdown",
   "metadata": {},
   "source": [
    "# Most Important Keyboard Shortcuts\n",
    "\n",
    "Here are some of the most imporant key commands for the **Command Mode**."
   ]
  },
  {
   "cell_type": "markdown",
   "metadata": {},
   "source": [
    "## Command Mode"
   ]
  },
  {
   "cell_type": "markdown",
   "metadata": {},
   "source": [
    "### Running Cells\n",
    "\n",
    "* `Shift + Enter`: run selected cell(s) and advance to next cell\n",
    "* `Ctrl + Enter`: run selected cell(s) and do not advance\n",
    "* `Alt + Enter`: run selected cell(s) and insert a new one below"
   ]
  },
  {
   "cell_type": "markdown",
   "metadata": {},
   "source": [
    "### New Cells\n",
    "\n",
    "* ```a```: insert cell above\n",
    "* ```b```: insert cell below"
   ]
  },
  {
   "cell_type": "markdown",
   "metadata": {},
   "source": [
    "### Copy/Paste\n",
    "* `x`: cut selected cell(s)\n",
    "* `c`: copy selected cell(s)\n",
    "* `v`: paste selected cell(s)\n",
    "* `d,d`: delete selected cell(s)"
   ]
  },
  {
   "cell_type": "markdown",
   "metadata": {},
   "source": [
    "### Kernel\n",
    "* `0,0`: restart kernel\n",
    "* `i,i`: interrupt kernel"
   ]
  },
  {
   "cell_type": "markdown",
   "metadata": {},
   "source": [
    "### Cell Type\n",
    "* `y`: change cell type to code cell\n",
    "* `m`: change cell type to markdown cell"
   ]
  },
  {
   "cell_type": "markdown",
   "metadata": {},
   "source": [
    "## Edit Mode"
   ]
  },
  {
   "cell_type": "markdown",
   "metadata": {},
   "source": [
    "### Documentation / Autocomplete\n",
    "* `Tab`: toggle autocomplete\n",
    "* `Shift + Tab`: show docstring for e.g. a function or class"
   ]
  },
  {
   "cell_type": "code",
   "execution_count": null,
   "metadata": {},
   "outputs": [],
   "source": [
    "ra\n",
    "# 🠕 put cursor here and press Tab"
   ]
  },
  {
   "cell_type": "code",
   "execution_count": null,
   "metadata": {},
   "outputs": [],
   "source": [
    "range()\n",
    "#    🠕 put cursor here and press Shift + Tab      "
   ]
  },
  {
   "cell_type": "markdown",
   "metadata": {},
   "source": [
    "### Cell Splitting\n",
    "* `Ctrl + Shift + -`: split cell at cursor position "
   ]
  },
  {
   "cell_type": "code",
   "execution_count": null,
   "metadata": {},
   "outputs": [],
   "source": [
    "a = 42\n",
    "\n",
    "# put cursor at the end of this line and press Ctrl + Shift + -\n",
    "\n",
    "b = a + 1"
   ]
  },
  {
   "cell_type": "markdown",
   "metadata": {},
   "source": [
    "# Drag and Drop\n",
    "\n",
    "You can also move cells by dragging and dropping them with your mouse (also works between different notebooks)."
   ]
  },
  {
   "cell_type": "code",
   "execution_count": null,
   "metadata": {},
   "outputs": [],
   "source": [
    "# first"
   ]
  },
  {
   "cell_type": "code",
   "execution_count": null,
   "metadata": {},
   "outputs": [],
   "source": [
    "# second"
   ]
  },
  {
   "cell_type": "code",
   "execution_count": null,
   "metadata": {},
   "outputs": [],
   "source": [
    "# third"
   ]
  },
  {
   "cell_type": "markdown",
   "metadata": {},
   "source": [
    "# Table of Contents\n",
    "\n",
    "In the left sidebar, you can also find a table of contents (very handy for large notebooks)."
   ]
  },
  {
   "cell_type": "markdown",
   "metadata": {},
   "source": [
    "# Basic Workflow\n",
    "\n",
    "* split up computational tasks into pieces, organizing related ideas into cells\n",
    "* move forward once previous parts work correctly"
   ]
  },
  {
   "cell_type": "markdown",
   "metadata": {},
   "source": [
    "Let's say for example we want to build a function that takes two strings, converts them to upper case, concatenates them with a space in between and returns the result."
   ]
  },
  {
   "cell_type": "code",
   "execution_count": null,
   "metadata": {},
   "outputs": [],
   "source": [
    "a = 'hello'\n",
    "b = 'world'"
   ]
  },
  {
   "cell_type": "markdown",
   "metadata": {},
   "source": [
    "At first, we need to find out how to convert a single string into upper case. Inspect the methods of the string class by typing `a.` and pressing `Tab`."
   ]
  },
  {
   "cell_type": "code",
   "execution_count": null,
   "metadata": {},
   "outputs": [],
   "source": [
    "a"
   ]
  },
  {
   "cell_type": "markdown",
   "metadata": {},
   "source": [
    "Then, we need to find out how to concatenate two strings."
   ]
  },
  {
   "cell_type": "code",
   "execution_count": null,
   "metadata": {},
   "outputs": [],
   "source": [
    "a + b"
   ]
  },
  {
   "cell_type": "markdown",
   "metadata": {},
   "source": [
    "Now we have all the parts to build our little function!"
   ]
  },
  {
   "cell_type": "code",
   "execution_count": null,
   "metadata": {},
   "outputs": [],
   "source": [
    "def my_awesome_function(s1, s2):\n",
    "    pass # return s1.upper() + \" \" + s2.upper()"
   ]
  },
  {
   "cell_type": "code",
   "execution_count": null,
   "metadata": {},
   "outputs": [],
   "source": [
    "my_awesome_function(a, b)"
   ]
  },
  {
   "cell_type": "markdown",
   "metadata": {},
   "source": [
    "# Kernels\n",
    "\n",
    "Each notebook is connected to a _kernel_. When you run a cell, the code will be sent to the kernel, which will execute the code and communicate back the result.\n",
    "\n",
    "This kernel remains active if the web browser is closed and reopening the same notebook from the dashboard will reconnect the web application to the same kernel.\n",
    "\n",
    "You can also connect another client (e.g. another notebook document) to the same kernel."
   ]
  },
  {
   "cell_type": "markdown",
   "metadata": {
    "tags": []
   },
   "source": [
    "## ...not just for Python!\n",
    "\n",
    "Because of this kernel/notebook architecture, Jupyter notebooks are not limited to running Python code (although it's the default).\n",
    "\n",
    "If there is a kernel implementation for it, you can use Jupter notebooks with any language you want, even C++! [Try it online here!](https://jupyter.org/try)"
   ]
  },
  {
   "cell_type": "markdown",
   "metadata": {},
   "source": [
    "For example, your session might look like this:"
   ]
  },
  {
   "cell_type": "markdown",
   "metadata": {},
   "source": [
    "![](../assets/images/jupyter-architecture.svg)"
   ]
  },
  {
   "cell_type": "markdown",
   "metadata": {},
   "source": [
    "# Further Reading\n",
    "\n",
    "* [official notebook documentation](https://jupyterlab.readthedocs.io/en/stable/user/notebook.html)\n",
    "* [intro notebook](https://colab.research.google.com/github/fastai/fastbook/blob/master/app_jupyter.ipynb) from fast.ai course [Practical Deep Learning for Coders](https://course.fast.ai/)"
   ]
  }
 ],
 "metadata": {
  "kernelspec": {
   "display_name": "Python 3",
   "language": "python",
   "name": "python3"
  },
  "language_info": {
   "codemirror_mode": {
    "name": "ipython",
    "version": 3
   },
   "file_extension": ".py",
   "mimetype": "text/x-python",
   "name": "python",
   "nbconvert_exporter": "python",
   "pygments_lexer": "ipython3",
   "version": "3.8.6"
  },
  "toc-autonumbering": false,
  "toc-showcode": false,
  "toc-showmarkdowntxt": false
 },
 "nbformat": 4,
 "nbformat_minor": 4
}
