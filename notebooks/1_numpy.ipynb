{
 "cells": [
  {
   "cell_type": "markdown",
   "id": "stupid-injury",
   "metadata": {},
   "source": [
    "<a href=\"https://numpy.org\"><img src=\"https://numpy.org/doc/stable/_static/numpylogo.svg\" width=\"500px\"/></a>"
   ]
  },
  {
   "cell_type": "markdown",
   "id": "comprehensive-airport",
   "metadata": {},
   "source": [
    "# Numerical Computation: **NumPy**\n",
    "\n",
    "Python was not originally designed for numerical computation. NumPy is the library filling this gap by providing\n",
    "\n",
    "* support for multi-dimensional arrays\n",
    "* a large collection of high-level mathematical functions to operate on these arrays\n",
    "\n",
    "The following is a boiled down version of the [official NumPy quickstart](https://numpy.org/doc/stable/user/quickstart.html)."
   ]
  },
  {
   "cell_type": "markdown",
   "id": "royal-smile",
   "metadata": {},
   "source": [
    "## The Basics"
   ]
  },
  {
   "cell_type": "markdown",
   "id": "experienced-deviation",
   "metadata": {},
   "source": [
    "### Meet `ndarray`\n",
    "\n",
    "NumPy's main object is the _homogeneous multidimensional array_. It is a table of elements (usually numbers), all of the same type, indexed by a tuple of non-negative integers. In NumPy dimensions are called axes.\n",
    "\n",
    "NumPy's array class is called `ndarray`. Some important attributes of an `ndarray` object are:\n",
    "\n",
    "#### `ndarray.ndim`\n",
    "the number of axes (dimensions) of the array\n",
    "\n",
    "#### `ndarray.shape`\n",
    "the dimensions of the array. This is a tuple of integers indicating the size of the array in each dimension. For a matrix with n rows and m columns, `shape` will be `(n,m)`. The length of the `shape` tuple is therefore the number of axes, `ndim`.\n",
    "\n",
    "#### `ndarray.size`\n",
    "the total number of elements of the array. This is equal to the product of the elements of `shape`.\n",
    "\n",
    "#### `ndarray.dtype`\n",
    "an object describing the type of the elements in the array. One can create or specify dtype’s using standard Python types. Additionally NumPy provides types of its own. `numpy.int32`, `numpy.int16`, and `numpy.float64` are some examples."
   ]
  },
  {
   "cell_type": "code",
   "execution_count": null,
   "id": "backed-analysis",
   "metadata": {},
   "outputs": [],
   "source": [
    "import numpy as np"
   ]
  },
  {
   "cell_type": "code",
   "execution_count": null,
   "id": "modular-correction",
   "metadata": {},
   "outputs": [],
   "source": [
    "a = np.arange(15).reshape(3, 5)\n",
    "a"
   ]
  },
  {
   "cell_type": "code",
   "execution_count": null,
   "id": "metallic-spotlight",
   "metadata": {},
   "outputs": [],
   "source": [
    "a.ndim"
   ]
  },
  {
   "cell_type": "code",
   "execution_count": null,
   "id": "corporate-chapter",
   "metadata": {},
   "outputs": [],
   "source": [
    "a.shape"
   ]
  },
  {
   "cell_type": "code",
   "execution_count": null,
   "id": "protecting-fiber",
   "metadata": {},
   "outputs": [],
   "source": [
    "a.size"
   ]
  },
  {
   "cell_type": "code",
   "execution_count": null,
   "id": "latest-voice",
   "metadata": {},
   "outputs": [],
   "source": [
    "a.dtype"
   ]
  },
  {
   "cell_type": "markdown",
   "id": "featured-karaoke",
   "metadata": {},
   "source": [
    "### Array Creation\n",
    "\n",
    "There are several ways to create arrays.\n",
    "\n",
    "For example, you can create an array from a regular Python list or tuple using the `array` function. The type of the resulting array is deduced from the type of the elements in the sequences."
   ]
  },
  {
   "cell_type": "code",
   "execution_count": null,
   "id": "cellular-lodge",
   "metadata": {},
   "outputs": [],
   "source": [
    "a = np.array([2, 3, 4])\n",
    "a"
   ]
  },
  {
   "cell_type": "markdown",
   "id": "latin-korea",
   "metadata": {},
   "source": [
    "`array` transforms sequences of sequences into two-dimensional arrays, sequences of sequences of sequences into three-dimensional arrays, and so on."
   ]
  },
  {
   "cell_type": "code",
   "execution_count": null,
   "id": "satisfactory-martial",
   "metadata": {},
   "outputs": [],
   "source": [
    "b = np.array([(1.5, 2, 3), (4, 5, 6)])\n",
    "b"
   ]
  },
  {
   "cell_type": "markdown",
   "id": "spectacular-throat",
   "metadata": {},
   "source": [
    "The type of the array can also be explicitly specified at creation time:"
   ]
  },
  {
   "cell_type": "code",
   "execution_count": null,
   "id": "partial-oxygen",
   "metadata": {},
   "outputs": [],
   "source": [
    "c = np.array([[1, 2], [3, 4]], dtype=complex)\n",
    "c"
   ]
  },
  {
   "cell_type": "markdown",
   "id": "artistic-grocery",
   "metadata": {},
   "source": [
    "Often, the elements of an array are originally unknown, but its size is known. Hence, NumPy offers several functions to create arrays with initial placeholder content. These minimize the necessity of growing arrays, an expensive operation.\n",
    "\n",
    "The function `zeros` creates an array full of zeros, the function `ones` creates an array full of ones, and the function `empty` creates an array whose initial content is random and depends on the state of the memory. By default, the dtype of the created array is `float64`."
   ]
  },
  {
   "cell_type": "code",
   "execution_count": null,
   "id": "supreme-resource",
   "metadata": {},
   "outputs": [],
   "source": [
    "np.zeros((3, 4))"
   ]
  },
  {
   "cell_type": "code",
   "execution_count": null,
   "id": "finite-prague",
   "metadata": {},
   "outputs": [],
   "source": [
    "np.ones((2, 3, 4), dtype=np.int16)"
   ]
  },
  {
   "cell_type": "code",
   "execution_count": null,
   "id": "varying-compilation",
   "metadata": {},
   "outputs": [],
   "source": [
    "np.empty((3, 3))"
   ]
  },
  {
   "cell_type": "markdown",
   "id": "welcome-times",
   "metadata": {},
   "source": [
    "To create sequences of numbers, NumPy provides the `arange` function which is analogous to the Python built-in `range`, but returns an array."
   ]
  },
  {
   "cell_type": "code",
   "execution_count": null,
   "id": "undefined-criminal",
   "metadata": {},
   "outputs": [],
   "source": [
    "np.arange(10, 30, 5)"
   ]
  },
  {
   "cell_type": "code",
   "execution_count": null,
   "id": "permanent-birthday",
   "metadata": {},
   "outputs": [],
   "source": [
    "np.arange(0, 2, 0.3) # it accepts floats"
   ]
  },
  {
   "cell_type": "markdown",
   "id": "spanish-conflict",
   "metadata": {},
   "source": [
    "When `arange` is used with floating point arguments, it is generally not possible to predict the number of elements obtained, due to the finite floating point precision. For this reason, it is usually better to use the function `linspace` that receives as an argument the number of elements that we want, instead of the step:"
   ]
  },
  {
   "cell_type": "code",
   "execution_count": null,
   "id": "periodic-meaning",
   "metadata": {},
   "outputs": [],
   "source": [
    "np.linspace(0, 2, 9) # 9 numbers from 0 to 2"
   ]
  },
  {
   "cell_type": "code",
   "execution_count": null,
   "id": "younger-madison",
   "metadata": {},
   "outputs": [],
   "source": [
    "x = np.linspace(0, 2 * np.pi, 100) # useful to evaluate function at lots of points\n",
    "y = np.sin(x)"
   ]
  },
  {
   "cell_type": "markdown",
   "id": "religious-guard",
   "metadata": {},
   "source": [
    "### Basic Operations\n",
    "\n",
    "Arithmetic operators on arrays apply _elementwise_. A new array is created and filled with the result."
   ]
  },
  {
   "cell_type": "code",
   "execution_count": null,
   "id": "constitutional-massachusetts",
   "metadata": {},
   "outputs": [],
   "source": [
    "a = np.array([20, 30, 40, 50])\n",
    "b = np.arange(4)\n",
    "a, b"
   ]
  },
  {
   "cell_type": "code",
   "execution_count": null,
   "id": "lesser-silver",
   "metadata": {},
   "outputs": [],
   "source": [
    "c = a - b\n",
    "c"
   ]
  },
  {
   "cell_type": "code",
   "execution_count": null,
   "id": "biblical-gambling",
   "metadata": {},
   "outputs": [],
   "source": [
    "b**2"
   ]
  },
  {
   "cell_type": "code",
   "execution_count": null,
   "id": "sporting-retrieval",
   "metadata": {},
   "outputs": [],
   "source": [
    "10 * np.sin(a)"
   ]
  },
  {
   "cell_type": "code",
   "execution_count": null,
   "id": "transsexual-university",
   "metadata": {},
   "outputs": [],
   "source": [
    "a < 35"
   ]
  },
  {
   "cell_type": "markdown",
   "id": "located-algebra",
   "metadata": {},
   "source": [
    "Unlike in many matrix languages, the product operator `*` operates elementwise in NumPy arrays. The matrix product can be performed using the `@` operator (in Python >=3.5) or the `dot` function or method: "
   ]
  },
  {
   "cell_type": "code",
   "execution_count": null,
   "id": "latin-computer",
   "metadata": {},
   "outputs": [],
   "source": [
    "A = np.array([[1, 1], [0, 1]])\n",
    "A"
   ]
  },
  {
   "cell_type": "code",
   "execution_count": null,
   "id": "accredited-rachel",
   "metadata": {},
   "outputs": [],
   "source": [
    "B = np.array([[2, 0], [3, 4]])\n",
    "B"
   ]
  },
  {
   "cell_type": "code",
   "execution_count": null,
   "id": "behavioral-fabric",
   "metadata": {},
   "outputs": [],
   "source": [
    "A * B"
   ]
  },
  {
   "cell_type": "code",
   "execution_count": null,
   "id": "fewer-maine",
   "metadata": {},
   "outputs": [],
   "source": [
    "A @ B"
   ]
  },
  {
   "cell_type": "code",
   "execution_count": null,
   "id": "acceptable-compensation",
   "metadata": {},
   "outputs": [],
   "source": [
    "A.dot(B)"
   ]
  },
  {
   "cell_type": "markdown",
   "id": "critical-humidity",
   "metadata": {},
   "source": [
    "Many unary operations, such as computing the sum of all the elements in the array, are implemented as methods of the `ndarray` class."
   ]
  },
  {
   "cell_type": "code",
   "execution_count": null,
   "id": "vanilla-catering",
   "metadata": {},
   "outputs": [],
   "source": [
    "a = np.random.random((2, 3))\n",
    "a"
   ]
  },
  {
   "cell_type": "code",
   "execution_count": null,
   "id": "distributed-developer",
   "metadata": {},
   "outputs": [],
   "source": [
    "a.sum()"
   ]
  },
  {
   "cell_type": "code",
   "execution_count": null,
   "id": "sapphire-disability",
   "metadata": {},
   "outputs": [],
   "source": [
    "a.min()"
   ]
  },
  {
   "cell_type": "code",
   "execution_count": null,
   "id": "simplified-triumph",
   "metadata": {},
   "outputs": [],
   "source": [
    "a.max()"
   ]
  },
  {
   "cell_type": "markdown",
   "id": "circular-proportion",
   "metadata": {},
   "source": [
    "By default, these operations apply to the array as though it were a list of numbers, regardless of its shape. However, by specifying the `axis` parameter you can apply an operation along the specified axis of an array:"
   ]
  },
  {
   "cell_type": "code",
   "execution_count": null,
   "id": "tender-ownership",
   "metadata": {},
   "outputs": [],
   "source": [
    "b = np.arange(12).reshape(3, 4)\n",
    "b"
   ]
  },
  {
   "cell_type": "code",
   "execution_count": null,
   "id": "tight-roots",
   "metadata": {},
   "outputs": [],
   "source": [
    "b.sum() # sum of all elements"
   ]
  },
  {
   "cell_type": "code",
   "execution_count": null,
   "id": "unauthorized-prescription",
   "metadata": {},
   "outputs": [],
   "source": [
    "b.sum(axis=0) # sum of each column"
   ]
  },
  {
   "cell_type": "code",
   "execution_count": null,
   "id": "lesbian-contractor",
   "metadata": {},
   "outputs": [],
   "source": [
    "b.sum(axis=1) # sum of each row"
   ]
  },
  {
   "cell_type": "code",
   "execution_count": null,
   "id": "initial-instruction",
   "metadata": {},
   "outputs": [],
   "source": [
    "b.cumsum(axis=1) # cumulative sum along each row"
   ]
  },
  {
   "cell_type": "markdown",
   "id": "fixed-stocks",
   "metadata": {},
   "source": [
    "### Indexing, Slicing and Iterating\n",
    "\n",
    "**One-dimensional** arrays can be indexed, sliced and iterated over, much like lists and other Python sequences."
   ]
  },
  {
   "cell_type": "code",
   "execution_count": null,
   "id": "possible-pension",
   "metadata": {},
   "outputs": [],
   "source": [
    "a = np.arange(10)**3\n",
    "a"
   ]
  },
  {
   "cell_type": "code",
   "execution_count": null,
   "id": "settled-martial",
   "metadata": {},
   "outputs": [],
   "source": [
    "a[2]"
   ]
  },
  {
   "cell_type": "code",
   "execution_count": null,
   "id": "expressed-comment",
   "metadata": {},
   "outputs": [],
   "source": [
    "a[2:5]"
   ]
  },
  {
   "cell_type": "code",
   "execution_count": null,
   "id": "allied-fiction",
   "metadata": {},
   "outputs": [],
   "source": [
    "# from start to position 6 (exclusive) set every 2nd element to 1000\n",
    "# equivalent to a[0:6:2] = 1000\n",
    "a[:6:2] = 1000\n",
    "a"
   ]
  },
  {
   "cell_type": "code",
   "execution_count": null,
   "id": "finnish-entrepreneur",
   "metadata": {},
   "outputs": [],
   "source": [
    "a[::-1] # reversed"
   ]
  },
  {
   "cell_type": "markdown",
   "id": "future-former",
   "metadata": {},
   "source": [
    "**Multidimensional** arrays can have one index per axis. These indices are given in a tuple separated by commas:"
   ]
  },
  {
   "cell_type": "code",
   "execution_count": null,
   "id": "secure-academy",
   "metadata": {},
   "outputs": [],
   "source": [
    "def f(x, y):\n",
    "    return 10*x + y"
   ]
  },
  {
   "cell_type": "code",
   "execution_count": null,
   "id": "palestinian-reservation",
   "metadata": {},
   "outputs": [],
   "source": [
    "b = np.fromfunction(f, (5, 4), dtype=int)\n",
    "b"
   ]
  },
  {
   "cell_type": "code",
   "execution_count": null,
   "id": "informational-teens",
   "metadata": {},
   "outputs": [],
   "source": [
    "b[2, 3]"
   ]
  },
  {
   "cell_type": "code",
   "execution_count": null,
   "id": "experimental-cornwall",
   "metadata": {},
   "outputs": [],
   "source": [
    "b[0:5, 1] # each row in the second column of b"
   ]
  },
  {
   "cell_type": "code",
   "execution_count": null,
   "id": "connected-presentation",
   "metadata": {},
   "outputs": [],
   "source": [
    "b[:, 1] # equivalent to the previous example"
   ]
  },
  {
   "cell_type": "code",
   "execution_count": null,
   "id": "incorporated-miracle",
   "metadata": {},
   "outputs": [],
   "source": [
    "b[1:3, :] # each column in the second and third row of b"
   ]
  },
  {
   "cell_type": "markdown",
   "id": "arranged-october",
   "metadata": {},
   "source": [
    "## Shape Manipulation"
   ]
  },
  {
   "cell_type": "markdown",
   "id": "occasional-holiday",
   "metadata": {},
   "source": [
    "### Chaging the shape of an array\n",
    "\n",
    "An array has a shape given by the number of elements along each axis:"
   ]
  },
  {
   "cell_type": "code",
   "execution_count": null,
   "id": "agricultural-grace",
   "metadata": {},
   "outputs": [],
   "source": [
    "a = np.floor(10 * np.random.random((3,4)))\n",
    "a"
   ]
  },
  {
   "cell_type": "code",
   "execution_count": null,
   "id": "touched-script",
   "metadata": {},
   "outputs": [],
   "source": [
    "a.shape"
   ]
  },
  {
   "cell_type": "markdown",
   "id": "pursuant-timeline",
   "metadata": {},
   "source": [
    "The shape of an array can be changed with various commands. Note that the following three commands all return a modified array, but do not change the original array:"
   ]
  },
  {
   "cell_type": "code",
   "execution_count": null,
   "id": "prostate-arabic",
   "metadata": {},
   "outputs": [],
   "source": [
    "a.flatten() # returns the array, flattened"
   ]
  },
  {
   "cell_type": "code",
   "execution_count": null,
   "id": "toxic-manual",
   "metadata": {},
   "outputs": [],
   "source": [
    "a.reshape(6, 2) # returns the array with a modified shape"
   ]
  },
  {
   "cell_type": "code",
   "execution_count": null,
   "id": "static-negative",
   "metadata": {},
   "outputs": [],
   "source": [
    "a.T # returns the array, transposed"
   ]
  },
  {
   "cell_type": "code",
   "execution_count": null,
   "id": "classical-wright",
   "metadata": {},
   "outputs": [],
   "source": [
    "a.T.shape"
   ]
  },
  {
   "cell_type": "code",
   "execution_count": null,
   "id": "christian-request",
   "metadata": {},
   "outputs": [],
   "source": [
    "a.shape"
   ]
  },
  {
   "cell_type": "markdown",
   "id": "sudden-shareware",
   "metadata": {},
   "source": [
    "### Automatic Reshaping\n",
    "\n",
    "If a dimension is given as -1 in a reshaping operation, its size will be deduced automattically:"
   ]
  },
  {
   "cell_type": "code",
   "execution_count": null,
   "id": "formal-accent",
   "metadata": {},
   "outputs": [],
   "source": [
    "a = np.arange(9).reshape((3, -1)) # -1 means \"whatever is needed\"\n",
    "a.shape"
   ]
  },
  {
   "cell_type": "code",
   "execution_count": null,
   "id": "polished-filename",
   "metadata": {},
   "outputs": [],
   "source": [
    "a"
   ]
  },
  {
   "cell_type": "markdown",
   "id": "fallen-paragraph",
   "metadata": {},
   "source": [
    "## Copies and Views\n",
    "\n",
    "When operating and manipulating arrays, their data is sometimes copied into a new array and sometimes not. This is often a source of confusion for beginners. There are three cases:"
   ]
  },
  {
   "cell_type": "markdown",
   "id": "bacterial-showcase",
   "metadata": {},
   "source": [
    "### No Copy at All\n",
    "\n",
    "Simple assignments make no copy of objects or their data."
   ]
  },
  {
   "cell_type": "code",
   "execution_count": null,
   "id": "western-works",
   "metadata": {},
   "outputs": [],
   "source": [
    "a = np.array([[0, 1, 2, 3], [4, 5, 6, 7], [8, 9, 10, 11]])\n",
    "a"
   ]
  },
  {
   "cell_type": "code",
   "execution_count": null,
   "id": "identical-greensboro",
   "metadata": {},
   "outputs": [],
   "source": [
    "b = a # no new object is created"
   ]
  },
  {
   "cell_type": "code",
   "execution_count": null,
   "id": "strong-porcelain",
   "metadata": {},
   "outputs": [],
   "source": [
    "b is a # a and b are two names for the same ndarray object"
   ]
  },
  {
   "cell_type": "markdown",
   "id": "mediterranean-enterprise",
   "metadata": {},
   "source": [
    "Python passes mutable objects as references, so function calls make no copy. Read [this](https://robertheaton.com/2014/02/09/pythons-pass-by-object-reference-as-explained-by-philip-k-dick/) for some more information."
   ]
  },
  {
   "cell_type": "code",
   "execution_count": null,
   "id": "patent-insight",
   "metadata": {},
   "outputs": [],
   "source": [
    "def f(x):\n",
    "    print(id(x))"
   ]
  },
  {
   "cell_type": "code",
   "execution_count": null,
   "id": "demonstrated-mentor",
   "metadata": {},
   "outputs": [],
   "source": [
    "id(a) # id is a unique identifier of an object"
   ]
  },
  {
   "cell_type": "code",
   "execution_count": null,
   "id": "deluxe-rhythm",
   "metadata": {},
   "outputs": [],
   "source": [
    "f(a)"
   ]
  },
  {
   "cell_type": "markdown",
   "id": "collective-exhibition",
   "metadata": {},
   "source": [
    "### View of Shallow Copy\n",
    "\n",
    "Different array objects can share the same data. The `view` method creates a new array object that looks at the same data."
   ]
  },
  {
   "cell_type": "code",
   "execution_count": null,
   "id": "negative-heath",
   "metadata": {},
   "outputs": [],
   "source": [
    "c = a.view()"
   ]
  },
  {
   "cell_type": "code",
   "execution_count": null,
   "id": "prescribed-brother",
   "metadata": {},
   "outputs": [],
   "source": [
    "c is a"
   ]
  },
  {
   "cell_type": "code",
   "execution_count": null,
   "id": "excited-diameter",
   "metadata": {},
   "outputs": [],
   "source": [
    "c.base is a # c is a view of the data owned by a"
   ]
  },
  {
   "cell_type": "code",
   "execution_count": null,
   "id": "liable-supervision",
   "metadata": {},
   "outputs": [],
   "source": [
    "c.flags.owndata"
   ]
  },
  {
   "cell_type": "code",
   "execution_count": null,
   "id": "distinguished-brunswick",
   "metadata": {},
   "outputs": [],
   "source": [
    "c = c.reshape((2, 6)) # a's shape doesn't change\n",
    "c.shape"
   ]
  },
  {
   "cell_type": "code",
   "execution_count": null,
   "id": "rotary-survival",
   "metadata": {},
   "outputs": [],
   "source": [
    "a.shape"
   ]
  },
  {
   "cell_type": "code",
   "execution_count": null,
   "id": "cultural-testimony",
   "metadata": {},
   "outputs": [],
   "source": [
    "c[0, 4] = 1234 # a's data changes"
   ]
  },
  {
   "cell_type": "code",
   "execution_count": null,
   "id": "going-bahrain",
   "metadata": {},
   "outputs": [],
   "source": [
    "a"
   ]
  },
  {
   "cell_type": "markdown",
   "id": "according-colors",
   "metadata": {},
   "source": [
    "Slicing an array returns a view of it:"
   ]
  },
  {
   "cell_type": "code",
   "execution_count": null,
   "id": "junior-disclosure",
   "metadata": {},
   "outputs": [],
   "source": [
    "s = a[:, 1:3]\n",
    "s"
   ]
  },
  {
   "cell_type": "code",
   "execution_count": null,
   "id": "fleet-drunk",
   "metadata": {},
   "outputs": [],
   "source": [
    "s[:] = 10 # s[:] is a view of s. Note the difference between s = 10 and s[:] = 10\n",
    "s"
   ]
  },
  {
   "cell_type": "code",
   "execution_count": null,
   "id": "alive-tucson",
   "metadata": {},
   "outputs": [],
   "source": [
    "a"
   ]
  },
  {
   "cell_type": "markdown",
   "id": "beginning-national",
   "metadata": {},
   "source": [
    "### Deep Copy\n",
    "\n",
    "The `copy` method makes a complete copy of the array and its data."
   ]
  },
  {
   "cell_type": "code",
   "execution_count": null,
   "id": "north-lease",
   "metadata": {},
   "outputs": [],
   "source": [
    "d = a.copy() # a new array object with new data is created"
   ]
  },
  {
   "cell_type": "code",
   "execution_count": null,
   "id": "hollywood-consumer",
   "metadata": {},
   "outputs": [],
   "source": [
    "d is a"
   ]
  },
  {
   "cell_type": "code",
   "execution_count": null,
   "id": "geological-virtue",
   "metadata": {},
   "outputs": [],
   "source": [
    "d.base is a # d doesn't share anything with a"
   ]
  },
  {
   "cell_type": "code",
   "execution_count": null,
   "id": "historic-calgary",
   "metadata": {},
   "outputs": [],
   "source": [
    "d[0, 0] = 9999"
   ]
  },
  {
   "cell_type": "code",
   "execution_count": null,
   "id": "contained-editing",
   "metadata": {},
   "outputs": [],
   "source": [
    "a"
   ]
  },
  {
   "cell_type": "code",
   "execution_count": null,
   "id": "accepting-clarity",
   "metadata": {},
   "outputs": [],
   "source": []
  }
 ],
 "metadata": {
  "kernelspec": {
   "display_name": "Python 3",
   "language": "python",
   "name": "python3"
  },
  "language_info": {
   "codemirror_mode": {
    "name": "ipython",
    "version": 3
   },
   "file_extension": ".py",
   "mimetype": "text/x-python",
   "name": "python",
   "nbconvert_exporter": "python",
   "pygments_lexer": "ipython3",
   "version": "3.8.6"
  }
 },
 "nbformat": 4,
 "nbformat_minor": 5
}
