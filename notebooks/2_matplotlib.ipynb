{
 "cells": [
  {
   "cell_type": "markdown",
   "metadata": {},
   "source": [
    "<a href=\"https://matplotlib.org\"><img src=\"https://matplotlib.org/_static/logo2_compressed.svg\" width=\"600px\"/></a>"
   ]
  },
  {
   "cell_type": "markdown",
   "metadata": {},
   "source": [
    "# Plotting Stuff: **Matplotlib**\n",
    "\n",
    "Matplotlib is a (the most?) popular plotting library for Python. \n",
    "\n",
    "Its [Pyplot API](https://matplotlib.org/tutorials/introductory/pyplot.html) is very similar to Matlab but there is also an object-oriented API for direct access to individual plot objects (useful to do further modifications on existing plots).\n",
    "\n",
    "Some parts of this notebook are adapted from [here](https://github.com/matplotlib/ipympl/blob/master/examples/ipympl.ipynb)."
   ]
  },
  {
   "cell_type": "markdown",
   "metadata": {},
   "source": [
    "# Backend & Imports\n",
    "\n",
    "To be able to use dynamic plots inside the notebook, we have to enable the correct backend for Matplotlib using the following [IPython magic](https://ipython.readthedocs.io/en/stable/interactive/magics.html):"
   ]
  },
  {
   "cell_type": "code",
   "execution_count": null,
   "metadata": {},
   "outputs": [],
   "source": [
    "%matplotlib widget"
   ]
  },
  {
   "cell_type": "markdown",
   "metadata": {},
   "source": [
    "Note that this has to be done before importing `matplotlib`.\n",
    "\n",
    "If you accidently forget this before importing `matplotlib`, you have to restart your kernel (`0, 0` in command mode)."
   ]
  },
  {
   "cell_type": "code",
   "execution_count": null,
   "metadata": {},
   "outputs": [],
   "source": [
    "import matplotlib.pyplot as plt\n",
    "import numpy as np"
   ]
  },
  {
   "cell_type": "markdown",
   "metadata": {},
   "source": [
    "# Pyplot API"
   ]
  },
  {
   "cell_type": "code",
   "execution_count": null,
   "metadata": {},
   "outputs": [],
   "source": [
    "t = np.linspace(0, 2 * np.pi, 100)\n",
    "y = np.sin(t)\n",
    "\n",
    "plt.xlabel('t')\n",
    "plt.ylabel('sin(t)')\n",
    "plt.plot(t, y);"
   ]
  },
  {
   "cell_type": "markdown",
   "metadata": {},
   "source": [
    "# Object-oriented API"
   ]
  },
  {
   "cell_type": "code",
   "execution_count": null,
   "metadata": {},
   "outputs": [],
   "source": [
    "fig, ax = plt.subplots()\n",
    "\n",
    "ax.plot(t, y)\n",
    "ax.set_xlabel('t')\n",
    "ax.set_ylabel('sin(t)');\n",
    "ax.grid(alpha=0.3)"
   ]
  },
  {
   "cell_type": "markdown",
   "metadata": {},
   "source": [
    "### Modifying Plots\n",
    "\n",
    "For example, we can list all line plots in our ```Axes``` object:"
   ]
  },
  {
   "cell_type": "code",
   "execution_count": null,
   "metadata": {},
   "outputs": [],
   "source": [
    "ax.lines"
   ]
  },
  {
   "cell_type": "markdown",
   "metadata": {},
   "source": [
    "\n",
    "...and remove it.\n"
   ]
  },
  {
   "cell_type": "code",
   "execution_count": null,
   "metadata": {},
   "outputs": [],
   "source": [
    "ax.lines[0].remove()"
   ]
  },
  {
   "cell_type": "markdown",
   "metadata": {},
   "source": [
    "And add it again."
   ]
  },
  {
   "cell_type": "code",
   "execution_count": null,
   "metadata": {},
   "outputs": [],
   "source": [
    "ax.plot(t, y)"
   ]
  },
  {
   "cell_type": "markdown",
   "metadata": {},
   "source": [
    "```plot``` returns a list of lines representing the plotted data. In our case, it's just a single line object.\n",
    "\n",
    "Saving these references into our own variables makes modifying them later a lot easier. Let's repeat the steps from before but this time saving the reference."
   ]
  },
  {
   "cell_type": "code",
   "execution_count": null,
   "metadata": {},
   "outputs": [],
   "source": [
    "ax.lines[0].remove()"
   ]
  },
  {
   "cell_type": "code",
   "execution_count": null,
   "metadata": {},
   "outputs": [],
   "source": [
    "line_0 = ax.plot(t, y)[0] # we just want the line, not [line]\n",
    "line_1 = ax.plot(t, -y)[0]\n",
    "line_2 = ax.plot(t, 0.5 * y)[0]\n",
    "\n",
    "line_0, line_1, line_2"
   ]
  },
  {
   "cell_type": "markdown",
   "metadata": {},
   "source": [
    "# Additional Views for Outputs\n",
    "\n",
    "As we add more and more cells below the plot, it might get annoying to constantly scroll up and down to see our changes.\n",
    "\n",
    "For this, we can create new views for any output in the notebook by right-clicking on any output  and selecting _Create New View for Output_). Note that for plots, you have to click outside of the actual figure to see the context menu."
   ]
  },
  {
   "cell_type": "markdown",
   "metadata": {},
   "source": [
    "Now we can precisely modify our lines."
   ]
  },
  {
   "cell_type": "code",
   "execution_count": null,
   "metadata": {},
   "outputs": [],
   "source": [
    "line_0.remove()"
   ]
  },
  {
   "cell_type": "code",
   "execution_count": null,
   "metadata": {},
   "outputs": [],
   "source": [
    "ax.lines"
   ]
  },
  {
   "cell_type": "code",
   "execution_count": null,
   "metadata": {},
   "outputs": [],
   "source": [
    "line_1.set_color('#ffc107')\n",
    "line_2.set_color('#00796b')"
   ]
  },
  {
   "cell_type": "code",
   "execution_count": null,
   "metadata": {},
   "outputs": [],
   "source": [
    "line_2.set_linewidth(1)"
   ]
  },
  {
   "cell_type": "code",
   "execution_count": null,
   "metadata": {},
   "outputs": [],
   "source": [
    "line_2.set_data(t, np.random.uniform(low=-1., high=1.) * y)"
   ]
  },
  {
   "cell_type": "markdown",
   "metadata": {},
   "source": [
    "# 3D plotting"
   ]
  },
  {
   "cell_type": "code",
   "execution_count": null,
   "metadata": {},
   "outputs": [],
   "source": [
    "from mpl_toolkits.mplot3d import axes3d\n",
    "import matplotlib as mpl\n",
    "\n",
    "fig = plt.figure()\n",
    "ax = fig.add_subplot(111, projection='3d')\n",
    "\n",
    "# Grab some test data.\n",
    "X, Y, Z = axes3d.get_test_data(0.05)\n",
    "\n",
    "# Plot a basic wireframe.\n",
    "ax.plot_surface(X, Y, Z, linewidth=1, cmap=mpl.cm.viridis)\n",
    "fig.tight_layout()"
   ]
  },
  {
   "cell_type": "markdown",
   "metadata": {},
   "source": [
    "# Working with Audio\n",
    "\n",
    "[Librosa](https://librosa.org/) is a library for audio and music processing in Python. It also supplies some convenient functions for plotting waveforms, spectrograms, etc."
   ]
  },
  {
   "cell_type": "code",
   "execution_count": null,
   "metadata": {},
   "outputs": [],
   "source": [
    "import librosa\n",
    "import librosa.display\n",
    "from IPython.display import Audio\n",
    "import warnings\n",
    "warnings.filterwarnings(\"ignore\",category=mpl.cbook.mplDeprecation)"
   ]
  },
  {
   "cell_type": "code",
   "execution_count": null,
   "metadata": {},
   "outputs": [],
   "source": [
    "fn = librosa.util.example('trumpet')"
   ]
  },
  {
   "cell_type": "code",
   "execution_count": null,
   "metadata": {},
   "outputs": [],
   "source": [
    "data, fs = librosa.load(fn)"
   ]
  },
  {
   "cell_type": "code",
   "execution_count": null,
   "metadata": {},
   "outputs": [],
   "source": [
    "Audio(data=data, rate=fs)"
   ]
  },
  {
   "cell_type": "code",
   "execution_count": null,
   "metadata": {},
   "outputs": [],
   "source": [
    "# create a figure with 2 subplots sharing the same x-axis\n",
    "fig, axes = plt.subplots(nrows=2, sharex=True, figsize=(8,4))\n",
    "\n",
    "# plot waveform in upper subplot\n",
    "librosa.display.waveplot(data, sr=fs, x_axis='s', ax=axes[0])\n",
    "\n",
    "# plot spectrogram in lower subplot\n",
    "S = librosa.feature.melspectrogram(data, sr=fs)\n",
    "img = librosa.display.specshow(librosa.power_to_db(S, ref=np.max), sr=fs, x_axis='s', y_axis='mel', ax=axes[1], cmap=mpl.cm.viridis)\n",
    "\n",
    "# add colorbar next to spectrogram\n",
    "fig.colorbar(img, ax=axes, format='%+2.0f dB', shrink=0.45, anchor=(0., 0.));"
   ]
  },
  {
   "cell_type": "markdown",
   "metadata": {},
   "source": [
    "## Further Reading\n",
    "\n",
    "* Check out what matplotlib can do in the official [gallery](https://matplotlib.org/stable/gallery/index.html)\n",
    "* have a look at the [tutorials](https://matplotlib.org/tutorials/index.html)\n",
    "\n",
    "## Alternatives\n",
    "\n",
    "There are some limitations to Matplotlib and there are plenty of alternatives (e.g. [bqplot](https://github.com/bqplot/bqplot)) but for most basic plotting it is more than sufficient."
   ]
  },
  {
   "cell_type": "code",
   "execution_count": null,
   "metadata": {},
   "outputs": [],
   "source": []
  }
 ],
 "metadata": {
  "kernelspec": {
   "display_name": "Python 3",
   "language": "python",
   "name": "python3"
  },
  "language_info": {
   "codemirror_mode": {
    "name": "ipython",
    "version": 3
   },
   "file_extension": ".py",
   "mimetype": "text/x-python",
   "name": "python",
   "nbconvert_exporter": "python",
   "pygments_lexer": "ipython3",
   "version": "3.8.6"
  }
 },
 "nbformat": 4,
 "nbformat_minor": 4
}
