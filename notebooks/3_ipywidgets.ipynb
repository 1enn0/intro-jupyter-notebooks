{
 "cells": [
  {
   "cell_type": "markdown",
   "metadata": {},
   "source": [
    "# Making Stuff Interactive: **ipywidgets**\n",
    "\n",
    "[🔗 Read the docs](https://ipywidgets.readthedocs.io/en/stable/)\n",
    "\n",
    "You can have a look at all the different widgets [here](https://ipywidgets.readthedocs.io/en/stable/examples/Widget%20List.html).\n",
    "\n",
    "Enabling interaction with matplotlib charts in the Jupyter notebook and JupyterLab"
   ]
  },
  {
   "cell_type": "code",
   "execution_count": null,
   "metadata": {},
   "outputs": [],
   "source": [
    "%matplotlib widget\n",
    "\n",
    "import matplotlib.pyplot as plt\n",
    "import matplotlib as mpl\n",
    "import numpy as np\n",
    "\n",
    "import ipywidgets as widgets\n",
    "\n",
    "import warnings\n",
    "warnings.filterwarnings(\"ignore\",category=mpl.cbook.mplDeprecation)"
   ]
  },
  {
   "cell_type": "markdown",
   "metadata": {},
   "source": [
    "# Creating a Simple Counter Button"
   ]
  },
  {
   "cell_type": "code",
   "execution_count": null,
   "metadata": {},
   "outputs": [],
   "source": [
    "button = widgets.Button(description='0')\n",
    "button"
   ]
  },
  {
   "cell_type": "code",
   "execution_count": null,
   "metadata": {},
   "outputs": [],
   "source": [
    "def increase_counter(b):\n",
    "    b.description = str(int(b.description) + 1)\n",
    "\n",
    "button.on_click(increase_counter)"
   ]
  },
  {
   "cell_type": "markdown",
   "metadata": {},
   "source": [
    "# Adding a Slider to a Plot"
   ]
  },
  {
   "cell_type": "code",
   "execution_count": null,
   "metadata": {},
   "outputs": [],
   "source": [
    "plt.ioff()\n",
    "\n",
    "slider = widgets.FloatSlider(\n",
    "    orientation='horizontal',\n",
    "    description='Frequency:',\n",
    "    value=1.0,\n",
    "    min=0.1,\n",
    "    max=10.0)\n",
    "slider.layout.width = '750px'\n",
    "\n",
    "fig, ax = plt.subplots()\n",
    "fig.canvas.header_visible = False\n",
    "fig.canvas.footer_visible = False\n",
    "fig.canvas.layout.min_height = '400px'\n",
    "ax.set_title(f'Plotting: {slider.value} Hz Sine')\n",
    "ax.set_xlabel('t in s')\n",
    "ax.set_ylabel('Amplitude')\n",
    "ax.grid(True)\n",
    "\n",
    "x = np.linspace(0, 1, 500)\n",
    "lines = ax.plot(x, np.sin(slider.value * x * 2. * np.pi))\n",
    "\n",
    "def update_lines(change):\n",
    "    plt.title(f'Plotting: {change.new} Hz Sine')\n",
    "    lines[0].set_data(x, np.sin(change.new * x * 2. * np.pi))\n",
    "    fig.canvas.draw()\n",
    "    fig.canvas.flush_events()\n",
    "\n",
    "slider.observe(update_lines, names='value')\n",
    "\n",
    "widgets.AppLayout(\n",
    "    center=fig.canvas,\n",
    "    footer=slider,\n",
    "    pane_heights=[0, 6, 1])"
   ]
  },
  {
   "cell_type": "markdown",
   "metadata": {},
   "source": [
    "# Librosa example"
   ]
  },
  {
   "cell_type": "code",
   "execution_count": null,
   "metadata": {},
   "outputs": [],
   "source": [
    "import librosa\n",
    "import librosa.display\n",
    "from IPython.display import Audio"
   ]
  },
  {
   "cell_type": "markdown",
   "metadata": {},
   "source": [
    "Librosa includes some example audio material that you can retrieve by using the ```ex``` method.\n",
    "\n",
    "The first time you retrieve a particular example, it will be downloaded from the remote repository and cashed locally for further use."
   ]
  },
  {
   "cell_type": "code",
   "execution_count": null,
   "metadata": {},
   "outputs": [],
   "source": [
    "data, fs = librosa.load(librosa.ex('trumpet'))"
   ]
  },
  {
   "cell_type": "code",
   "execution_count": null,
   "metadata": {},
   "outputs": [],
   "source": [
    "Audio(data=data, rate=fs)"
   ]
  },
  {
   "cell_type": "markdown",
   "metadata": {},
   "source": [
    "Using ```ipywidgets```, we can build a small toy app to explore the the audio file further."
   ]
  },
  {
   "cell_type": "code",
   "execution_count": null,
   "metadata": {},
   "outputs": [],
   "source": [
    "S = librosa.power_to_db(librosa.feature.melspectrogram(y=data, sr=fs), ref=np.max)\n",
    "fs_mel = librosa.mel_frequencies(fmax=8192)\n",
    "n_frames = S.shape[1]\n",
    "frame_idx = 0"
   ]
  },
  {
   "cell_type": "code",
   "execution_count": null,
   "metadata": {},
   "outputs": [],
   "source": [
    "plt.ioff()\n",
    "fig, axes = plt.subplots(nrows=2, figsize=(8, 6))\n",
    "fig.canvas.header_visible = False\n",
    "\n",
    "# plot magnitude spectrum of a single stft frame in upper subplot\n",
    "lines = axes[0].plot(fs_mel, S[:, frame_idx], '.-', color='#ff5722')\n",
    "axes[0].set_title(f'Frame #{frame_idx}')\n",
    "axes[0].set_xlabel('f in Hz')\n",
    "axes[0].set_ylabel('dB')\n",
    "axes[0].set_ylim([-85, 5])\n",
    "axes[0].set_xscale('symlog', linthresh=1000, base=2)\n",
    "axes[0].set_xticks([2**x for x in range(9, 14)])\n",
    "axes[0].set_xticklabels([str(x) for x in axes[0].get_xticks()])\n",
    "axes[0].grid(b=True, which='both', alpha=0.4)\n",
    "\n",
    "# plot the whole spectrogram in lower subplot \n",
    "librosa.display.specshow(S, x_axis='s', y_axis='mel', sr=fs, ax=axes[1], cmap=mpl.cm.viridis)\n",
    "\n",
    "# plot vertical line over spectrogram to highlight current frame \n",
    "vlines = axes[1].axvline(x=librosa.frames_to_time(frame_idx + 0.5), color=lines[0].get_color(), linewidth=1)\n",
    "\n",
    "# set up the slider widget\n",
    "slider = widgets.IntSlider(value=frame_idx, min=0, max=S.shape[1] - 1, description='Frame')\n",
    "slider.layout.width = '800px'\n",
    "\n",
    "def update(change):\n",
    "    axes[0].set_title(f'Frame #{change.new}')\n",
    "    lines[0].set_data(fs_mel, S[:, change.new])\n",
    "    vlines.set_xdata([librosa.frames_to_time(change.new + 0.5) for _ in range(2)])\n",
    "    fig.canvas.draw()\n",
    "    fig.canvas.flush_events()\n",
    "    \n",
    "slider.observe(update, names='value')\n",
    "\n",
    "widgets.AppLayout(\n",
    "    center=fig.canvas,\n",
    "    footer=slider,\n",
    "    pane_heights=[0, 6, 1])"
   ]
  },
  {
   "cell_type": "markdown",
   "metadata": {},
   "source": [
    "# Using `interact`\n",
    "\n",
    "At the most basic level, `interact` autogenerates UI controls for function arguments, and then calls the function with those arguments when you manipulate the controls interactively."
   ]
  },
  {
   "cell_type": "code",
   "execution_count": null,
   "metadata": {},
   "outputs": [],
   "source": [
    "def f(x):\n",
    "    return x"
   ]
  },
  {
   "cell_type": "markdown",
   "metadata": {},
   "source": [
    "When you pass this function as the first argument to `interact` along with an integer keyword argument (`x=10`), a slider is generated and bound to the function parameter."
   ]
  },
  {
   "cell_type": "code",
   "execution_count": null,
   "metadata": {},
   "outputs": [],
   "source": [
    "widgets.interact(f, x = 10);"
   ]
  },
  {
   "cell_type": "markdown",
   "metadata": {},
   "source": [
    "When you move the slider, the function is called, and its return value is printed."
   ]
  },
  {
   "cell_type": "markdown",
   "metadata": {},
   "source": [
    "You can also pass different types as the keyword argument `x`:"
   ]
  },
  {
   "cell_type": "code",
   "execution_count": null,
   "metadata": {},
   "outputs": [],
   "source": [
    "widgets.interact(f, x = True);"
   ]
  },
  {
   "cell_type": "code",
   "execution_count": null,
   "metadata": {},
   "outputs": [],
   "source": [
    "widgets.interact(f, x = 'hello');"
   ]
  },
  {
   "cell_type": "code",
   "execution_count": null,
   "metadata": {},
   "outputs": [],
   "source": []
  }
 ],
 "metadata": {
  "kernelspec": {
   "display_name": "Python 3",
   "language": "python",
   "name": "python3"
  },
  "language_info": {
   "codemirror_mode": {
    "name": "ipython",
    "version": 3
   },
   "file_extension": ".py",
   "mimetype": "text/x-python",
   "name": "python",
   "nbconvert_exporter": "python",
   "pygments_lexer": "ipython3",
   "version": "3.8.6"
  },
  "widgets": {
   "application/vnd.jupyter.widget-state+json": {
    "state": {},
    "version_major": 2,
    "version_minor": 0
   }
  }
 },
 "nbformat": 4,
 "nbformat_minor": 4
}
