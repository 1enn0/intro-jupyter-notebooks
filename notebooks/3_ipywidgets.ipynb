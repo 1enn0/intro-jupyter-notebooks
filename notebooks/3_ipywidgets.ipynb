{
 "cells": [
  {
   "cell_type": "markdown",
   "metadata": {},
   "source": [
    "# Making Stuff Interactive: **ipywidgets**\n",
    "\n",
    "[🔗 Read the docs](https://ipywidgets.readthedocs.io/en/stable/)\n",
    "\n",
    "Enabling interaction with matplotlib charts in the Jupyter notebook and JupyterLab"
   ]
  },
  {
   "cell_type": "code",
   "execution_count": null,
   "metadata": {},
   "outputs": [],
   "source": [
    "%matplotlib widget\n",
    "\n",
    "import matplotlib.pyplot as plt\n",
    "import matplotlib as mpl\n",
    "import numpy as np\n",
    "\n",
    "import ipywidgets as widgets\n",
    "\n",
    "import warnings\n",
    "warnings.filterwarnings(\"ignore\",category=mpl.cbook.mplDeprecation)"
   ]
  },
  {
   "cell_type": "markdown",
   "metadata": {},
   "source": [
    "# Adding a Slider to a Plot"
   ]
  },
  {
   "cell_type": "code",
   "execution_count": null,
   "metadata": {},
   "outputs": [],
   "source": [
    "plt.ioff()\n",
    "\n",
    "slider = widgets.FloatSlider(\n",
    "    orientation='horizontal',\n",
    "    description='Frequency:',\n",
    "    value=1.0,\n",
    "    min=0.1,\n",
    "    max=10.0)\n",
    "slider.layout.width = '750px'\n",
    "\n",
    "fig, ax = plt.subplots()\n",
    "fig.canvas.header_visible = False\n",
    "fig.canvas.footer_visible = False\n",
    "fig.canvas.layout.min_height = '400px'\n",
    "ax.set_title(f'Plotting: {slider.value} Hz Sine')\n",
    "ax.set_xlabel('t in s')\n",
    "ax.set_ylabel('Amplitude')\n",
    "ax.grid(True)\n",
    "\n",
    "x = np.linspace(0, 1, 500)\n",
    "lines = ax.plot(x, np.sin(slider.value * x * 2. * np.pi))\n",
    "\n",
    "def update_lines(change):\n",
    "    plt.title(f'Plotting: {change.new} Hz Sine')\n",
    "    lines[0].set_data(x, np.sin(change.new * x * 2. * np.pi))\n",
    "    fig.canvas.draw()\n",
    "    fig.canvas.flush_events()\n",
    "\n",
    "slider.observe(update_lines, names='value')\n",
    "\n",
    "widgets.AppLayout(\n",
    "    center=fig.canvas,\n",
    "    footer=slider,\n",
    "    pane_heights=[0, 6, 1])"
   ]
  },
  {
   "cell_type": "markdown",
   "metadata": {},
   "source": [
    "## Update image data in a performant manner\n",
    "\n",
    "Two useful tricks to improve performance when updating an image displayed with matplolib are to:\n",
    "1. Use the `set_data` method instead of calling imshow\n",
    "2. Precompute and then index the array"
   ]
  },
  {
   "cell_type": "code",
   "execution_count": null,
   "metadata": {},
   "outputs": [],
   "source": [
    "# precomputing all images\n",
    "x = np.linspace(0,np.pi,200)\n",
    "y = np.linspace(0,10,200)\n",
    "X,Y = np.meshgrid(x,y)\n",
    "parameter = np.linspace(-5,5)\n",
    "example_image_stack = np.sin(X)[None,:,:]+np.exp(np.cos(Y[None,:,:]*parameter[:,None,None]))"
   ]
  },
  {
   "cell_type": "code",
   "execution_count": null,
   "metadata": {},
   "outputs": [],
   "source": [
    "plt.ioff()\n",
    "fig = plt.figure()\n",
    "plt.ion()\n",
    "im = plt.imshow(example_image_stack[0])\n",
    "\n",
    "def update(change):\n",
    "    im.set_data(example_image_stack[change['new']])\n",
    "    fig.canvas.draw_idle()\n",
    "    \n",
    "    \n",
    "slider = widgets.IntSlider(value=0, min=0, max=len(parameter)-1)\n",
    "slider.observe(update, names='value')\n",
    "widgets.VBox([slider, fig.canvas])"
   ]
  },
  {
   "cell_type": "markdown",
   "metadata": {},
   "source": [
    "# Librosa example"
   ]
  },
  {
   "cell_type": "code",
   "execution_count": null,
   "metadata": {},
   "outputs": [],
   "source": [
    "import librosa\n",
    "import librosa.display\n",
    "from IPython.display import Audio"
   ]
  },
  {
   "cell_type": "markdown",
   "metadata": {},
   "source": [
    "Librosa includes some example audio material that you can retrieve by using the ```ex``` method.\n",
    "\n",
    "The first time you retrieve a particular example, it will be downloaded from the remote repository and cashed locally for further use."
   ]
  },
  {
   "cell_type": "code",
   "execution_count": null,
   "metadata": {},
   "outputs": [],
   "source": [
    "data, fs = librosa.load(librosa.ex('trumpet'))"
   ]
  },
  {
   "cell_type": "markdown",
   "metadata": {},
   "source": [
    "Let's listen to it..."
   ]
  },
  {
   "cell_type": "code",
   "execution_count": null,
   "metadata": {},
   "outputs": [],
   "source": [
    "Audio(data=data, rate=fs)"
   ]
  },
  {
   "cell_type": "markdown",
   "metadata": {},
   "source": [
    "Using ```ipywidgets```, we can build a small toy app to explore the the audio file further."
   ]
  },
  {
   "cell_type": "code",
   "execution_count": null,
   "metadata": {},
   "outputs": [],
   "source": [
    "S = librosa.power_to_db(librosa.feature.melspectrogram(y=data, sr=fs), ref=np.max)\n",
    "fs_mel = librosa.mel_frequencies(fmax=8192)\n",
    "n_frames = S.shape[1]\n",
    "frame_idx = 0"
   ]
  },
  {
   "cell_type": "code",
   "execution_count": null,
   "metadata": {},
   "outputs": [],
   "source": [
    "plt.ioff()\n",
    "fig, axes = plt.subplots(nrows=2, figsize=(8, 6))\n",
    "fig.canvas.header_visible = False\n",
    "\n",
    "# plot magnitude spectrum of a single stft frame in upper subplot\n",
    "lines = axes[0].plot(fs_mel, S[:, frame_idx], '.-', color='#ff5722')\n",
    "axes[0].set_title(f'Frame #{frame_idx}')\n",
    "axes[0].set_xlabel('f in Hz')\n",
    "axes[0].set_ylabel('dB')\n",
    "axes[0].set_ylim([-85, 5])\n",
    "axes[0].set_xscale('symlog', linthresh=1000, base=2)\n",
    "axes[0].set_xticks([2**x for x in range(9, 14)])\n",
    "axes[0].set_xticklabels([str(x) for x in axes[0].get_xticks()])\n",
    "axes[0].grid(b=True, which='both', alpha=0.4)\n",
    "\n",
    "# plot the whole spectrogram in lower subplot \n",
    "librosa.display.specshow(S, x_axis='s', y_axis='mel', sr=fs, ax=axes[1], cmap=mpl.cm.viridis)\n",
    "\n",
    "# plot vertical line over spectrogram to highlight current frame \n",
    "vlines = axes[1].axvline(x=librosa.frames_to_time(frame_idx + 0.5), color=lines[0].get_color(), linewidth=1)\n",
    "\n",
    "# set up the slider widget\n",
    "slider = widgets.IntSlider(value=frame_idx, min=0, max=S.shape[1] - 1, description='Frame')\n",
    "slider.layout.width = '800px'\n",
    "\n",
    "def update(change):\n",
    "    axes[0].set_title(f'Frame #{change.new}')\n",
    "    lines[0].set_data(fs_mel, S[:, change.new])\n",
    "    vlines.set_xdata([librosa.frames_to_time(change.new + 0.5) for _ in range(2)])\n",
    "    fig.canvas.draw()\n",
    "    fig.canvas.flush_events()\n",
    "    \n",
    "slider.observe(update, names='value')\n",
    "\n",
    "widgets.AppLayout(\n",
    "    center=fig.canvas,\n",
    "    footer=slider,\n",
    "    pane_heights=[0, 6, 1])"
   ]
  },
  {
   "cell_type": "code",
   "execution_count": null,
   "metadata": {},
   "outputs": [],
   "source": []
  }
 ],
 "metadata": {
  "kernelspec": {
   "display_name": "Python 3",
   "language": "python",
   "name": "python3"
  },
  "language_info": {
   "codemirror_mode": {
    "name": "ipython",
    "version": 3
   },
   "file_extension": ".py",
   "mimetype": "text/x-python",
   "name": "python",
   "nbconvert_exporter": "python",
   "pygments_lexer": "ipython3",
   "version": "3.8.6"
  },
  "widgets": {
   "application/vnd.jupyter.widget-state+json": {
    "state": {},
    "version_major": 2,
    "version_minor": 0
   }
  }
 },
 "nbformat": 4,
 "nbformat_minor": 4
}
